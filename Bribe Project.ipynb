{
 "cells": [
  {
   "cell_type": "code",
   "execution_count": 1,
   "id": "a8f51664",
   "metadata": {},
   "outputs": [],
   "source": [
    "import numpy as np\n",
    "import pandas as pd\n",
    "import seaborn as sn\n",
    "import matplotlib.pyplot as plt\n",
    "\n",
    "%matplotlib inline\n",
    "\n",
    "import warnings\n",
    "warnings.filterwarnings('ignore')"
   ]
  },
  {
   "cell_type": "code",
   "execution_count": 2,
   "id": "117798db",
   "metadata": {},
   "outputs": [
    {
     "data": {
      "text/html": [
       "<div>\n",
       "<style scoped>\n",
       "    .dataframe tbody tr th:only-of-type {\n",
       "        vertical-align: middle;\n",
       "    }\n",
       "\n",
       "    .dataframe tbody tr th {\n",
       "        vertical-align: top;\n",
       "    }\n",
       "\n",
       "    .dataframe thead th {\n",
       "        text-align: right;\n",
       "    }\n",
       "</style>\n",
       "<table border=\"1\" class=\"dataframe\">\n",
       "  <thead>\n",
       "    <tr style=\"text-align: right;\">\n",
       "      <th></th>\n",
       "      <th>Title</th>\n",
       "      <th>Date</th>\n",
       "      <th>Location</th>\n",
       "      <th>Department</th>\n",
       "      <th>Views</th>\n",
       "      <th>Amount(INR)</th>\n",
       "    </tr>\n",
       "  </thead>\n",
       "  <tbody>\n",
       "    <tr>\n",
       "      <th>0</th>\n",
       "      <td>They said it is registration fee for birth cer...</td>\n",
       "      <td>14-10-20</td>\n",
       "      <td>Bangalore,Karnataka</td>\n",
       "      <td>Births, Family and Care</td>\n",
       "      <td>1225</td>\n",
       "      <td>400</td>\n",
       "    </tr>\n",
       "    <tr>\n",
       "      <th>1</th>\n",
       "      <td>Paid bribe for not having insurance during pan...</td>\n",
       "      <td>13-10-20</td>\n",
       "      <td>Bangalore,Karnataka</td>\n",
       "      <td>Vehicle Insurance</td>\n",
       "      <td>1158</td>\n",
       "      <td>350</td>\n",
       "    </tr>\n",
       "    <tr>\n",
       "      <th>2</th>\n",
       "      <td>Forced to pay bribe at KR Puram RTO</td>\n",
       "      <td>13-10-20</td>\n",
       "      <td>Bangalore,Karnataka</td>\n",
       "      <td>Driving and Transport Business</td>\n",
       "      <td>1249</td>\n",
       "      <td>100</td>\n",
       "    </tr>\n",
       "    <tr>\n",
       "      <th>3</th>\n",
       "      <td>Forced to pay 100 rupees bribe for LL test</td>\n",
       "      <td>13-10-20</td>\n",
       "      <td>Bangalore,Karnataka</td>\n",
       "      <td>Driving Licenses and Tests</td>\n",
       "      <td>1044</td>\n",
       "      <td>100</td>\n",
       "    </tr>\n",
       "    <tr>\n",
       "      <th>4</th>\n",
       "      <td>Misusing of power and traping people in false ...</td>\n",
       "      <td>13-10-20</td>\n",
       "      <td>Siwan,Bihar</td>\n",
       "      <td>FIR and Complaints</td>\n",
       "      <td>1068</td>\n",
       "      <td>15000</td>\n",
       "    </tr>\n",
       "  </tbody>\n",
       "</table>\n",
       "</div>"
      ],
      "text/plain": [
       "                                               Title      Date  \\\n",
       "0  They said it is registration fee for birth cer...  14-10-20   \n",
       "1  Paid bribe for not having insurance during pan...  13-10-20   \n",
       "2                Forced to pay bribe at KR Puram RTO  13-10-20   \n",
       "3         Forced to pay 100 rupees bribe for LL test  13-10-20   \n",
       "4  Misusing of power and traping people in false ...  13-10-20   \n",
       "\n",
       "              Location                      Department  Views  Amount(INR)  \n",
       "0  Bangalore,Karnataka         Births, Family and Care   1225          400  \n",
       "1  Bangalore,Karnataka               Vehicle Insurance   1158          350  \n",
       "2  Bangalore,Karnataka  Driving and Transport Business   1249          100  \n",
       "3  Bangalore,Karnataka      Driving Licenses and Tests   1044          100  \n",
       "4          Siwan,Bihar              FIR and Complaints   1068        15000  "
      ]
     },
     "execution_count": 2,
     "metadata": {},
     "output_type": "execute_result"
    }
   ],
   "source": [
    "df = pd.read_csv('Bribe_report.csv')\n",
    "df.head()"
   ]
  },
  {
   "cell_type": "code",
   "execution_count": 3,
   "id": "b40418d5",
   "metadata": {},
   "outputs": [
    {
     "data": {
      "text/plain": [
       "(3473, 6)"
      ]
     },
     "execution_count": 3,
     "metadata": {},
     "output_type": "execute_result"
    }
   ],
   "source": [
    "df.shape"
   ]
  },
  {
   "cell_type": "code",
   "execution_count": 4,
   "id": "b7902c63",
   "metadata": {},
   "outputs": [],
   "source": [
    "df.drop(['Title'],axis =1,inplace =True)"
   ]
  },
  {
   "cell_type": "code",
   "execution_count": 5,
   "id": "9ef6d93b",
   "metadata": {},
   "outputs": [
    {
     "data": {
      "text/html": [
       "<div>\n",
       "<style scoped>\n",
       "    .dataframe tbody tr th:only-of-type {\n",
       "        vertical-align: middle;\n",
       "    }\n",
       "\n",
       "    .dataframe tbody tr th {\n",
       "        vertical-align: top;\n",
       "    }\n",
       "\n",
       "    .dataframe thead th {\n",
       "        text-align: right;\n",
       "    }\n",
       "</style>\n",
       "<table border=\"1\" class=\"dataframe\">\n",
       "  <thead>\n",
       "    <tr style=\"text-align: right;\">\n",
       "      <th></th>\n",
       "      <th>Date</th>\n",
       "      <th>Location</th>\n",
       "      <th>Department</th>\n",
       "      <th>Views</th>\n",
       "      <th>Amount(INR)</th>\n",
       "    </tr>\n",
       "  </thead>\n",
       "  <tbody>\n",
       "    <tr>\n",
       "      <th>0</th>\n",
       "      <td>14-10-20</td>\n",
       "      <td>Bangalore,Karnataka</td>\n",
       "      <td>Births, Family and Care</td>\n",
       "      <td>1225</td>\n",
       "      <td>400</td>\n",
       "    </tr>\n",
       "    <tr>\n",
       "      <th>1</th>\n",
       "      <td>13-10-20</td>\n",
       "      <td>Bangalore,Karnataka</td>\n",
       "      <td>Vehicle Insurance</td>\n",
       "      <td>1158</td>\n",
       "      <td>350</td>\n",
       "    </tr>\n",
       "    <tr>\n",
       "      <th>2</th>\n",
       "      <td>13-10-20</td>\n",
       "      <td>Bangalore,Karnataka</td>\n",
       "      <td>Driving and Transport Business</td>\n",
       "      <td>1249</td>\n",
       "      <td>100</td>\n",
       "    </tr>\n",
       "    <tr>\n",
       "      <th>3</th>\n",
       "      <td>13-10-20</td>\n",
       "      <td>Bangalore,Karnataka</td>\n",
       "      <td>Driving Licenses and Tests</td>\n",
       "      <td>1044</td>\n",
       "      <td>100</td>\n",
       "    </tr>\n",
       "    <tr>\n",
       "      <th>4</th>\n",
       "      <td>13-10-20</td>\n",
       "      <td>Siwan,Bihar</td>\n",
       "      <td>FIR and Complaints</td>\n",
       "      <td>1068</td>\n",
       "      <td>15000</td>\n",
       "    </tr>\n",
       "  </tbody>\n",
       "</table>\n",
       "</div>"
      ],
      "text/plain": [
       "       Date             Location                      Department  Views  \\\n",
       "0  14-10-20  Bangalore,Karnataka         Births, Family and Care   1225   \n",
       "1  13-10-20  Bangalore,Karnataka               Vehicle Insurance   1158   \n",
       "2  13-10-20  Bangalore,Karnataka  Driving and Transport Business   1249   \n",
       "3  13-10-20  Bangalore,Karnataka      Driving Licenses and Tests   1044   \n",
       "4  13-10-20          Siwan,Bihar              FIR and Complaints   1068   \n",
       "\n",
       "   Amount(INR)  \n",
       "0          400  \n",
       "1          350  \n",
       "2          100  \n",
       "3          100  \n",
       "4        15000  "
      ]
     },
     "execution_count": 5,
     "metadata": {},
     "output_type": "execute_result"
    }
   ],
   "source": [
    "df.head()"
   ]
  },
  {
   "cell_type": "code",
   "execution_count": 6,
   "id": "cb8a9a7d",
   "metadata": {},
   "outputs": [
    {
     "data": {
      "text/plain": [
       "Date            0\n",
       "Location        0\n",
       "Department     44\n",
       "Views           0\n",
       "Amount(INR)     0\n",
       "dtype: int64"
      ]
     },
     "execution_count": 6,
     "metadata": {},
     "output_type": "execute_result"
    }
   ],
   "source": [
    "df.isnull().sum()"
   ]
  },
  {
   "cell_type": "code",
   "execution_count": 7,
   "id": "b3a141bb",
   "metadata": {},
   "outputs": [],
   "source": [
    "df['Department'] = df['Department'].fillna(\"Unknown\")"
   ]
  },
  {
   "cell_type": "code",
   "execution_count": 8,
   "id": "f194b7cb",
   "metadata": {},
   "outputs": [
    {
     "data": {
      "text/plain": [
       "Date           0\n",
       "Location       0\n",
       "Department     0\n",
       "Views          0\n",
       "Amount(INR)    0\n",
       "dtype: int64"
      ]
     },
     "execution_count": 8,
     "metadata": {},
     "output_type": "execute_result"
    }
   ],
   "source": [
    "df.isnull().sum()"
   ]
  },
  {
   "cell_type": "code",
   "execution_count": 9,
   "id": "15ddf750",
   "metadata": {},
   "outputs": [
    {
     "name": "stdout",
     "output_type": "stream",
     "text": [
      "<class 'pandas.core.series.Series'>\n",
      "RangeIndex: 3473 entries, 0 to 3472\n",
      "Series name: Department\n",
      "Non-Null Count  Dtype \n",
      "--------------  ----- \n",
      "3473 non-null   object\n",
      "dtypes: object(1)\n",
      "memory usage: 27.3+ KB\n"
     ]
    }
   ],
   "source": [
    "df['Department'].info()"
   ]
  },
  {
   "cell_type": "code",
   "execution_count": 10,
   "id": "7939210c",
   "metadata": {},
   "outputs": [
    {
     "name": "stdout",
     "output_type": "stream",
     "text": [
      "<class 'pandas.core.frame.DataFrame'>\n",
      "RangeIndex: 3473 entries, 0 to 3472\n",
      "Data columns (total 5 columns):\n",
      " #   Column       Non-Null Count  Dtype \n",
      "---  ------       --------------  ----- \n",
      " 0   Date         3473 non-null   object\n",
      " 1   Location     3473 non-null   object\n",
      " 2   Department   3473 non-null   object\n",
      " 3   Views        3473 non-null   int64 \n",
      " 4   Amount(INR)  3473 non-null   int64 \n",
      "dtypes: int64(2), object(3)\n",
      "memory usage: 135.8+ KB\n"
     ]
    }
   ],
   "source": [
    "df.info()"
   ]
  },
  {
   "cell_type": "code",
   "execution_count": 11,
   "id": "a5bfd4ae",
   "metadata": {},
   "outputs": [],
   "source": [
    "df['Date'] = pd.to_datetime(df['Date'])"
   ]
  },
  {
   "cell_type": "code",
   "execution_count": 12,
   "id": "ff96741d",
   "metadata": {},
   "outputs": [
    {
     "name": "stdout",
     "output_type": "stream",
     "text": [
      "<class 'pandas.core.frame.DataFrame'>\n",
      "RangeIndex: 3473 entries, 0 to 3472\n",
      "Data columns (total 5 columns):\n",
      " #   Column       Non-Null Count  Dtype         \n",
      "---  ------       --------------  -----         \n",
      " 0   Date         3473 non-null   datetime64[ns]\n",
      " 1   Location     3473 non-null   object        \n",
      " 2   Department   3473 non-null   object        \n",
      " 3   Views        3473 non-null   int64         \n",
      " 4   Amount(INR)  3473 non-null   int64         \n",
      "dtypes: datetime64[ns](1), int64(2), object(2)\n",
      "memory usage: 135.8+ KB\n"
     ]
    }
   ],
   "source": [
    "df.info()"
   ]
  },
  {
   "cell_type": "code",
   "execution_count": 13,
   "id": "f91463af",
   "metadata": {},
   "outputs": [],
   "source": [
    "df['year'] = df['Date'].dt.year\n",
    "df['month'] = df['Date'].dt.month\n",
    "df['days_of_month'] = df['Date'].dt.day\n",
    "df['week_days']   = df['Date'].dt.dayofweek\n",
    "df['day_names'] = df['Date'].dt.day_name()\n",
    "df['month_names'] = df['Date'].dt.month_name()\n"
   ]
  },
  {
   "cell_type": "code",
   "execution_count": 14,
   "id": "4fbdef34",
   "metadata": {},
   "outputs": [
    {
     "data": {
      "text/html": [
       "<div>\n",
       "<style scoped>\n",
       "    .dataframe tbody tr th:only-of-type {\n",
       "        vertical-align: middle;\n",
       "    }\n",
       "\n",
       "    .dataframe tbody tr th {\n",
       "        vertical-align: top;\n",
       "    }\n",
       "\n",
       "    .dataframe thead th {\n",
       "        text-align: right;\n",
       "    }\n",
       "</style>\n",
       "<table border=\"1\" class=\"dataframe\">\n",
       "  <thead>\n",
       "    <tr style=\"text-align: right;\">\n",
       "      <th></th>\n",
       "      <th>Date</th>\n",
       "      <th>Location</th>\n",
       "      <th>Department</th>\n",
       "      <th>Views</th>\n",
       "      <th>Amount(INR)</th>\n",
       "      <th>year</th>\n",
       "      <th>month</th>\n",
       "      <th>days_of_month</th>\n",
       "      <th>week_days</th>\n",
       "      <th>day_names</th>\n",
       "      <th>month_names</th>\n",
       "    </tr>\n",
       "  </thead>\n",
       "  <tbody>\n",
       "    <tr>\n",
       "      <th>0</th>\n",
       "      <td>2020-10-14</td>\n",
       "      <td>Bangalore,Karnataka</td>\n",
       "      <td>Births, Family and Care</td>\n",
       "      <td>1225</td>\n",
       "      <td>400</td>\n",
       "      <td>2020</td>\n",
       "      <td>10</td>\n",
       "      <td>14</td>\n",
       "      <td>2</td>\n",
       "      <td>Wednesday</td>\n",
       "      <td>October</td>\n",
       "    </tr>\n",
       "    <tr>\n",
       "      <th>1</th>\n",
       "      <td>2020-10-13</td>\n",
       "      <td>Bangalore,Karnataka</td>\n",
       "      <td>Vehicle Insurance</td>\n",
       "      <td>1158</td>\n",
       "      <td>350</td>\n",
       "      <td>2020</td>\n",
       "      <td>10</td>\n",
       "      <td>13</td>\n",
       "      <td>1</td>\n",
       "      <td>Tuesday</td>\n",
       "      <td>October</td>\n",
       "    </tr>\n",
       "    <tr>\n",
       "      <th>2</th>\n",
       "      <td>2020-10-13</td>\n",
       "      <td>Bangalore,Karnataka</td>\n",
       "      <td>Driving and Transport Business</td>\n",
       "      <td>1249</td>\n",
       "      <td>100</td>\n",
       "      <td>2020</td>\n",
       "      <td>10</td>\n",
       "      <td>13</td>\n",
       "      <td>1</td>\n",
       "      <td>Tuesday</td>\n",
       "      <td>October</td>\n",
       "    </tr>\n",
       "    <tr>\n",
       "      <th>3</th>\n",
       "      <td>2020-10-13</td>\n",
       "      <td>Bangalore,Karnataka</td>\n",
       "      <td>Driving Licenses and Tests</td>\n",
       "      <td>1044</td>\n",
       "      <td>100</td>\n",
       "      <td>2020</td>\n",
       "      <td>10</td>\n",
       "      <td>13</td>\n",
       "      <td>1</td>\n",
       "      <td>Tuesday</td>\n",
       "      <td>October</td>\n",
       "    </tr>\n",
       "    <tr>\n",
       "      <th>4</th>\n",
       "      <td>2020-10-13</td>\n",
       "      <td>Siwan,Bihar</td>\n",
       "      <td>FIR and Complaints</td>\n",
       "      <td>1068</td>\n",
       "      <td>15000</td>\n",
       "      <td>2020</td>\n",
       "      <td>10</td>\n",
       "      <td>13</td>\n",
       "      <td>1</td>\n",
       "      <td>Tuesday</td>\n",
       "      <td>October</td>\n",
       "    </tr>\n",
       "  </tbody>\n",
       "</table>\n",
       "</div>"
      ],
      "text/plain": [
       "        Date             Location                      Department  Views  \\\n",
       "0 2020-10-14  Bangalore,Karnataka         Births, Family and Care   1225   \n",
       "1 2020-10-13  Bangalore,Karnataka               Vehicle Insurance   1158   \n",
       "2 2020-10-13  Bangalore,Karnataka  Driving and Transport Business   1249   \n",
       "3 2020-10-13  Bangalore,Karnataka      Driving Licenses and Tests   1044   \n",
       "4 2020-10-13          Siwan,Bihar              FIR and Complaints   1068   \n",
       "\n",
       "   Amount(INR)  year  month  days_of_month  week_days  day_names month_names  \n",
       "0          400  2020     10             14          2  Wednesday     October  \n",
       "1          350  2020     10             13          1    Tuesday     October  \n",
       "2          100  2020     10             13          1    Tuesday     October  \n",
       "3          100  2020     10             13          1    Tuesday     October  \n",
       "4        15000  2020     10             13          1    Tuesday     October  "
      ]
     },
     "execution_count": 14,
     "metadata": {},
     "output_type": "execute_result"
    }
   ],
   "source": [
    "df.head()"
   ]
  },
  {
   "cell_type": "code",
   "execution_count": 15,
   "id": "63cbb211",
   "metadata": {},
   "outputs": [],
   "source": [
    "df['City'] = df['Location'].str.split(',').apply(lambda x: x[0])\n",
    "df['State'] = df['Location'].str.split(',').apply(lambda x: x[-1])"
   ]
  },
  {
   "cell_type": "code",
   "execution_count": 16,
   "id": "93d024f4",
   "metadata": {},
   "outputs": [
    {
     "data": {
      "text/html": [
       "<div>\n",
       "<style scoped>\n",
       "    .dataframe tbody tr th:only-of-type {\n",
       "        vertical-align: middle;\n",
       "    }\n",
       "\n",
       "    .dataframe tbody tr th {\n",
       "        vertical-align: top;\n",
       "    }\n",
       "\n",
       "    .dataframe thead th {\n",
       "        text-align: right;\n",
       "    }\n",
       "</style>\n",
       "<table border=\"1\" class=\"dataframe\">\n",
       "  <thead>\n",
       "    <tr style=\"text-align: right;\">\n",
       "      <th></th>\n",
       "      <th>Date</th>\n",
       "      <th>Location</th>\n",
       "      <th>Department</th>\n",
       "      <th>Views</th>\n",
       "      <th>Amount(INR)</th>\n",
       "      <th>year</th>\n",
       "      <th>month</th>\n",
       "      <th>days_of_month</th>\n",
       "      <th>week_days</th>\n",
       "      <th>day_names</th>\n",
       "      <th>month_names</th>\n",
       "      <th>City</th>\n",
       "      <th>State</th>\n",
       "    </tr>\n",
       "  </thead>\n",
       "  <tbody>\n",
       "    <tr>\n",
       "      <th>0</th>\n",
       "      <td>2020-10-14</td>\n",
       "      <td>Bangalore,Karnataka</td>\n",
       "      <td>Births, Family and Care</td>\n",
       "      <td>1225</td>\n",
       "      <td>400</td>\n",
       "      <td>2020</td>\n",
       "      <td>10</td>\n",
       "      <td>14</td>\n",
       "      <td>2</td>\n",
       "      <td>Wednesday</td>\n",
       "      <td>October</td>\n",
       "      <td>Bangalore</td>\n",
       "      <td>Karnataka</td>\n",
       "    </tr>\n",
       "    <tr>\n",
       "      <th>1</th>\n",
       "      <td>2020-10-13</td>\n",
       "      <td>Bangalore,Karnataka</td>\n",
       "      <td>Vehicle Insurance</td>\n",
       "      <td>1158</td>\n",
       "      <td>350</td>\n",
       "      <td>2020</td>\n",
       "      <td>10</td>\n",
       "      <td>13</td>\n",
       "      <td>1</td>\n",
       "      <td>Tuesday</td>\n",
       "      <td>October</td>\n",
       "      <td>Bangalore</td>\n",
       "      <td>Karnataka</td>\n",
       "    </tr>\n",
       "    <tr>\n",
       "      <th>2</th>\n",
       "      <td>2020-10-13</td>\n",
       "      <td>Bangalore,Karnataka</td>\n",
       "      <td>Driving and Transport Business</td>\n",
       "      <td>1249</td>\n",
       "      <td>100</td>\n",
       "      <td>2020</td>\n",
       "      <td>10</td>\n",
       "      <td>13</td>\n",
       "      <td>1</td>\n",
       "      <td>Tuesday</td>\n",
       "      <td>October</td>\n",
       "      <td>Bangalore</td>\n",
       "      <td>Karnataka</td>\n",
       "    </tr>\n",
       "    <tr>\n",
       "      <th>3</th>\n",
       "      <td>2020-10-13</td>\n",
       "      <td>Bangalore,Karnataka</td>\n",
       "      <td>Driving Licenses and Tests</td>\n",
       "      <td>1044</td>\n",
       "      <td>100</td>\n",
       "      <td>2020</td>\n",
       "      <td>10</td>\n",
       "      <td>13</td>\n",
       "      <td>1</td>\n",
       "      <td>Tuesday</td>\n",
       "      <td>October</td>\n",
       "      <td>Bangalore</td>\n",
       "      <td>Karnataka</td>\n",
       "    </tr>\n",
       "    <tr>\n",
       "      <th>4</th>\n",
       "      <td>2020-10-13</td>\n",
       "      <td>Siwan,Bihar</td>\n",
       "      <td>FIR and Complaints</td>\n",
       "      <td>1068</td>\n",
       "      <td>15000</td>\n",
       "      <td>2020</td>\n",
       "      <td>10</td>\n",
       "      <td>13</td>\n",
       "      <td>1</td>\n",
       "      <td>Tuesday</td>\n",
       "      <td>October</td>\n",
       "      <td>Siwan</td>\n",
       "      <td>Bihar</td>\n",
       "    </tr>\n",
       "  </tbody>\n",
       "</table>\n",
       "</div>"
      ],
      "text/plain": [
       "        Date             Location                      Department  Views  \\\n",
       "0 2020-10-14  Bangalore,Karnataka         Births, Family and Care   1225   \n",
       "1 2020-10-13  Bangalore,Karnataka               Vehicle Insurance   1158   \n",
       "2 2020-10-13  Bangalore,Karnataka  Driving and Transport Business   1249   \n",
       "3 2020-10-13  Bangalore,Karnataka      Driving Licenses and Tests   1044   \n",
       "4 2020-10-13          Siwan,Bihar              FIR and Complaints   1068   \n",
       "\n",
       "   Amount(INR)  year  month  days_of_month  week_days  day_names month_names  \\\n",
       "0          400  2020     10             14          2  Wednesday     October   \n",
       "1          350  2020     10             13          1    Tuesday     October   \n",
       "2          100  2020     10             13          1    Tuesday     October   \n",
       "3          100  2020     10             13          1    Tuesday     October   \n",
       "4        15000  2020     10             13          1    Tuesday     October   \n",
       "\n",
       "        City      State  \n",
       "0  Bangalore  Karnataka  \n",
       "1  Bangalore  Karnataka  \n",
       "2  Bangalore  Karnataka  \n",
       "3  Bangalore  Karnataka  \n",
       "4      Siwan      Bihar  "
      ]
     },
     "execution_count": 16,
     "metadata": {},
     "output_type": "execute_result"
    }
   ],
   "source": [
    "df.head()"
   ]
  },
  {
   "cell_type": "code",
   "execution_count": 17,
   "id": "01861196",
   "metadata": {},
   "outputs": [],
   "source": [
    "df.drop('Location',axis =1,inplace =True)"
   ]
  },
  {
   "cell_type": "code",
   "execution_count": 18,
   "id": "2bec36d8",
   "metadata": {},
   "outputs": [
    {
     "name": "stdout",
     "output_type": "stream",
     "text": [
      "<class 'pandas.core.frame.DataFrame'>\n",
      "RangeIndex: 3473 entries, 0 to 3472\n",
      "Data columns (total 12 columns):\n",
      " #   Column         Non-Null Count  Dtype         \n",
      "---  ------         --------------  -----         \n",
      " 0   Date           3473 non-null   datetime64[ns]\n",
      " 1   Department     3473 non-null   object        \n",
      " 2   Views          3473 non-null   int64         \n",
      " 3   Amount(INR)    3473 non-null   int64         \n",
      " 4   year           3473 non-null   int64         \n",
      " 5   month          3473 non-null   int64         \n",
      " 6   days_of_month  3473 non-null   int64         \n",
      " 7   week_days      3473 non-null   int64         \n",
      " 8   day_names      3473 non-null   object        \n",
      " 9   month_names    3473 non-null   object        \n",
      " 10  City           3473 non-null   object        \n",
      " 11  State          3473 non-null   object        \n",
      "dtypes: datetime64[ns](1), int64(6), object(5)\n",
      "memory usage: 325.7+ KB\n"
     ]
    }
   ],
   "source": [
    "df.info()"
   ]
  },
  {
   "cell_type": "markdown",
   "id": "77810d2d",
   "metadata": {},
   "source": [
    "# 1 - Most Bribes are paid in which cities?\n"
   ]
  },
  {
   "cell_type": "code",
   "execution_count": 19,
   "id": "67f59ae0",
   "metadata": {},
   "outputs": [
    {
     "data": {
      "text/html": [
       "<div>\n",
       "<style scoped>\n",
       "    .dataframe tbody tr th:only-of-type {\n",
       "        vertical-align: middle;\n",
       "    }\n",
       "\n",
       "    .dataframe tbody tr th {\n",
       "        vertical-align: top;\n",
       "    }\n",
       "\n",
       "    .dataframe thead th {\n",
       "        text-align: right;\n",
       "    }\n",
       "</style>\n",
       "<table border=\"1\" class=\"dataframe\">\n",
       "  <thead>\n",
       "    <tr style=\"text-align: right;\">\n",
       "      <th></th>\n",
       "      <th>City</th>\n",
       "      <th>Amount(INR)</th>\n",
       "    </tr>\n",
       "  </thead>\n",
       "  <tbody>\n",
       "    <tr>\n",
       "      <th>0</th>\n",
       "      <td>Bangalore</td>\n",
       "      <td>400</td>\n",
       "    </tr>\n",
       "    <tr>\n",
       "      <th>1</th>\n",
       "      <td>Bangalore</td>\n",
       "      <td>350</td>\n",
       "    </tr>\n",
       "    <tr>\n",
       "      <th>2</th>\n",
       "      <td>Bangalore</td>\n",
       "      <td>100</td>\n",
       "    </tr>\n",
       "    <tr>\n",
       "      <th>3</th>\n",
       "      <td>Bangalore</td>\n",
       "      <td>100</td>\n",
       "    </tr>\n",
       "    <tr>\n",
       "      <th>4</th>\n",
       "      <td>Siwan</td>\n",
       "      <td>15000</td>\n",
       "    </tr>\n",
       "    <tr>\n",
       "      <th>5</th>\n",
       "      <td>Siwan</td>\n",
       "      <td>15000</td>\n",
       "    </tr>\n",
       "    <tr>\n",
       "      <th>6</th>\n",
       "      <td>Coimbatore</td>\n",
       "      <td>5000</td>\n",
       "    </tr>\n",
       "    <tr>\n",
       "      <th>7</th>\n",
       "      <td>Bangalore</td>\n",
       "      <td>500</td>\n",
       "    </tr>\n",
       "    <tr>\n",
       "      <th>8</th>\n",
       "      <td>Hyderabad</td>\n",
       "      <td>2500</td>\n",
       "    </tr>\n",
       "    <tr>\n",
       "      <th>9</th>\n",
       "      <td>Mysore</td>\n",
       "      <td>4000</td>\n",
       "    </tr>\n",
       "  </tbody>\n",
       "</table>\n",
       "</div>"
      ],
      "text/plain": [
       "         City  Amount(INR)\n",
       "0   Bangalore          400\n",
       "1   Bangalore          350\n",
       "2   Bangalore          100\n",
       "3   Bangalore          100\n",
       "4       Siwan        15000\n",
       "5       Siwan        15000\n",
       "6  Coimbatore         5000\n",
       "7   Bangalore          500\n",
       "8   Hyderabad         2500\n",
       "9      Mysore         4000"
      ]
     },
     "execution_count": 19,
     "metadata": {},
     "output_type": "execute_result"
    }
   ],
   "source": [
    "df1= df[['City', 'Amount(INR)']].copy()\n",
    "df1.head(10)"
   ]
  },
  {
   "cell_type": "code",
   "execution_count": 20,
   "id": "2b25e120",
   "metadata": {},
   "outputs": [
    {
     "data": {
      "text/html": [
       "<div>\n",
       "<style scoped>\n",
       "    .dataframe tbody tr th:only-of-type {\n",
       "        vertical-align: middle;\n",
       "    }\n",
       "\n",
       "    .dataframe tbody tr th {\n",
       "        vertical-align: top;\n",
       "    }\n",
       "\n",
       "    .dataframe thead th {\n",
       "        text-align: right;\n",
       "    }\n",
       "</style>\n",
       "<table border=\"1\" class=\"dataframe\">\n",
       "  <thead>\n",
       "    <tr style=\"text-align: right;\">\n",
       "      <th></th>\n",
       "      <th>count</th>\n",
       "      <th>sum</th>\n",
       "    </tr>\n",
       "    <tr>\n",
       "      <th>City</th>\n",
       "      <th></th>\n",
       "      <th></th>\n",
       "    </tr>\n",
       "  </thead>\n",
       "  <tbody>\n",
       "    <tr>\n",
       "      <th>Bangalore</th>\n",
       "      <td>769</td>\n",
       "      <td>18922321</td>\n",
       "    </tr>\n",
       "    <tr>\n",
       "      <th>NewDelhi</th>\n",
       "      <td>230</td>\n",
       "      <td>7198320</td>\n",
       "    </tr>\n",
       "    <tr>\n",
       "      <th>Chennai</th>\n",
       "      <td>163</td>\n",
       "      <td>5030228</td>\n",
       "    </tr>\n",
       "    <tr>\n",
       "      <th>Mumbai</th>\n",
       "      <td>122</td>\n",
       "      <td>8745496</td>\n",
       "    </tr>\n",
       "    <tr>\n",
       "      <th>Pune</th>\n",
       "      <td>119</td>\n",
       "      <td>849812</td>\n",
       "    </tr>\n",
       "    <tr>\n",
       "      <th>Hyderabad</th>\n",
       "      <td>94</td>\n",
       "      <td>2475545</td>\n",
       "    </tr>\n",
       "    <tr>\n",
       "      <th>Adari</th>\n",
       "      <td>62</td>\n",
       "      <td>296136</td>\n",
       "    </tr>\n",
       "    <tr>\n",
       "      <th>Abohar</th>\n",
       "      <td>51</td>\n",
       "      <td>3370030</td>\n",
       "    </tr>\n",
       "    <tr>\n",
       "      <th>Abhayapuri</th>\n",
       "      <td>51</td>\n",
       "      <td>304595</td>\n",
       "    </tr>\n",
       "    <tr>\n",
       "      <th>Achhnera</th>\n",
       "      <td>50</td>\n",
       "      <td>841656</td>\n",
       "    </tr>\n",
       "  </tbody>\n",
       "</table>\n",
       "</div>"
      ],
      "text/plain": [
       "            count       sum\n",
       "City                       \n",
       "Bangalore     769  18922321\n",
       "NewDelhi      230   7198320\n",
       "Chennai       163   5030228\n",
       "Mumbai        122   8745496\n",
       "Pune          119    849812\n",
       "Hyderabad      94   2475545\n",
       "Adari          62    296136\n",
       "Abohar         51   3370030\n",
       "Abhayapuri     51    304595\n",
       "Achhnera       50    841656"
      ]
     },
     "execution_count": 20,
     "metadata": {},
     "output_type": "execute_result"
    }
   ],
   "source": [
    "most_bribe_area=df.groupby(['City'])['Amount(INR)'].agg(['count','sum']).sort_values(by='count',ascending=False).head(10)\n",
    "most_bribe_area"
   ]
  },
  {
   "cell_type": "code",
   "execution_count": 21,
   "id": "7e1acb10",
   "metadata": {},
   "outputs": [
    {
     "data": {
      "image/png": "[encoded data removed]",
      "text/plain": [
       "<Figure size 640x480 with 1 Axes>"
      ]
     },
     "metadata": {},
     "output_type": "display_data"
    }
   ],
   "source": [
    "sn.barplot(y=most_bribe_area.index,x=most_bribe_area['count'])\n",
    "plt.xlabel('Count')\n",
    "plt.ylabel(\"Cities\")\n",
    "plt.title('Most Bribes taken by City?');"
   ]
  },
  {
   "cell_type": "code",
   "execution_count": 22,
   "id": "5a03056d",
   "metadata": {},
   "outputs": [
    {
     "data": {
      "text/html": [
       "<div>\n",
       "<style scoped>\n",
       "    .dataframe tbody tr th:only-of-type {\n",
       "        vertical-align: middle;\n",
       "    }\n",
       "\n",
       "    .dataframe tbody tr th {\n",
       "        vertical-align: top;\n",
       "    }\n",
       "\n",
       "    .dataframe thead th {\n",
       "        text-align: right;\n",
       "    }\n",
       "</style>\n",
       "<table border=\"1\" class=\"dataframe\">\n",
       "  <thead>\n",
       "    <tr style=\"text-align: right;\">\n",
       "      <th></th>\n",
       "      <th>City</th>\n",
       "      <th>count</th>\n",
       "      <th>sum</th>\n",
       "    </tr>\n",
       "  </thead>\n",
       "  <tbody>\n",
       "    <tr>\n",
       "      <th>0</th>\n",
       "      <td>Bangalore</td>\n",
       "      <td>769</td>\n",
       "      <td>18922321</td>\n",
       "    </tr>\n",
       "    <tr>\n",
       "      <th>1</th>\n",
       "      <td>NewDelhi</td>\n",
       "      <td>230</td>\n",
       "      <td>7198320</td>\n",
       "    </tr>\n",
       "    <tr>\n",
       "      <th>2</th>\n",
       "      <td>Chennai</td>\n",
       "      <td>163</td>\n",
       "      <td>5030228</td>\n",
       "    </tr>\n",
       "    <tr>\n",
       "      <th>3</th>\n",
       "      <td>Mumbai</td>\n",
       "      <td>122</td>\n",
       "      <td>8745496</td>\n",
       "    </tr>\n",
       "    <tr>\n",
       "      <th>4</th>\n",
       "      <td>Pune</td>\n",
       "      <td>119</td>\n",
       "      <td>849812</td>\n",
       "    </tr>\n",
       "  </tbody>\n",
       "</table>\n",
       "</div>"
      ],
      "text/plain": [
       "        City  count       sum\n",
       "0  Bangalore    769  18922321\n",
       "1   NewDelhi    230   7198320\n",
       "2    Chennai    163   5030228\n",
       "3     Mumbai    122   8745496\n",
       "4       Pune    119    849812"
      ]
     },
     "execution_count": 22,
     "metadata": {},
     "output_type": "execute_result"
    }
   ],
   "source": [
    "most_bribe_area.reset_index(inplace=True)\n",
    "most_bribe_area.head()"
   ]
  },
  {
   "cell_type": "code",
   "execution_count": 23,
   "id": "24a29d8b",
   "metadata": {},
   "outputs": [
    {
     "data": {
      "text/html": [
       "<div>\n",
       "<style scoped>\n",
       "    .dataframe tbody tr th:only-of-type {\n",
       "        vertical-align: middle;\n",
       "    }\n",
       "\n",
       "    .dataframe tbody tr th {\n",
       "        vertical-align: top;\n",
       "    }\n",
       "\n",
       "    .dataframe thead th {\n",
       "        text-align: right;\n",
       "    }\n",
       "</style>\n",
       "<table border=\"1\" class=\"dataframe\">\n",
       "  <thead>\n",
       "    <tr style=\"text-align: right;\">\n",
       "      <th></th>\n",
       "      <th>City</th>\n",
       "      <th>count</th>\n",
       "      <th>sum</th>\n",
       "    </tr>\n",
       "  </thead>\n",
       "  <tbody>\n",
       "    <tr>\n",
       "      <th>0</th>\n",
       "      <td>Bangalore</td>\n",
       "      <td>769</td>\n",
       "      <td>18922321</td>\n",
       "    </tr>\n",
       "  </tbody>\n",
       "</table>\n",
       "</div>"
      ],
      "text/plain": [
       "        City  count       sum\n",
       "0  Bangalore    769  18922321"
      ]
     },
     "execution_count": 23,
     "metadata": {},
     "output_type": "execute_result"
    }
   ],
   "source": [
    "most_bribe_area[['City', 'count','sum']][most_bribe_area['sum'] == most_bribe_area['sum'].max()]   # Bangalore has highest number of bribes paid"
   ]
  },
  {
   "cell_type": "markdown",
   "id": "18b591f2",
   "metadata": {},
   "source": [
    "# 2- Most Bribes are paid in which states?"
   ]
  },
  {
   "cell_type": "code",
   "execution_count": 26,
   "id": "d84069b3",
   "metadata": {},
   "outputs": [
    {
     "data": {
      "image/png": "[encoded data removed]",
      "text/plain": [
       "<Figure size 640x480 with 1 Axes>"
      ]
     },
     "metadata": {},
     "output_type": "display_data"
    }
   ],
   "source": [
    "most_bribe_State=df.groupby(['State'])['Amount(INR)'].agg(['count','sum']).sort_values(by='count',ascending=False).head(10)\n",
    "sn.barplot(y=most_bribe_State.index,x=most_bribe_State['count']);"
   ]
  },
  {
   "cell_type": "code",
   "execution_count": 27,
   "id": "502eaedd",
   "metadata": {},
   "outputs": [
    {
     "data": {
      "text/html": [
       "<div>\n",
       "<style scoped>\n",
       "    .dataframe tbody tr th:only-of-type {\n",
       "        vertical-align: middle;\n",
       "    }\n",
       "\n",
       "    .dataframe tbody tr th {\n",
       "        vertical-align: top;\n",
       "    }\n",
       "\n",
       "    .dataframe thead th {\n",
       "        text-align: right;\n",
       "    }\n",
       "</style>\n",
       "<table border=\"1\" class=\"dataframe\">\n",
       "  <thead>\n",
       "    <tr style=\"text-align: right;\">\n",
       "      <th></th>\n",
       "      <th>State</th>\n",
       "      <th>count</th>\n",
       "      <th>sum</th>\n",
       "    </tr>\n",
       "  </thead>\n",
       "  <tbody>\n",
       "    <tr>\n",
       "      <th>0</th>\n",
       "      <td>Karnataka</td>\n",
       "      <td>905</td>\n",
       "      <td>25006233</td>\n",
       "    </tr>\n",
       "    <tr>\n",
       "      <th>1</th>\n",
       "      <td>UttarPradesh</td>\n",
       "      <td>401</td>\n",
       "      <td>11722391</td>\n",
       "    </tr>\n",
       "    <tr>\n",
       "      <th>2</th>\n",
       "      <td>Maharashtra</td>\n",
       "      <td>393</td>\n",
       "      <td>14343076</td>\n",
       "    </tr>\n",
       "    <tr>\n",
       "      <th>3</th>\n",
       "      <td>TamilNadu</td>\n",
       "      <td>339</td>\n",
       "      <td>9078678</td>\n",
       "    </tr>\n",
       "    <tr>\n",
       "      <th>4</th>\n",
       "      <td>Delhi</td>\n",
       "      <td>230</td>\n",
       "      <td>7198320</td>\n",
       "    </tr>\n",
       "  </tbody>\n",
       "</table>\n",
       "</div>"
      ],
      "text/plain": [
       "          State  count       sum\n",
       "0     Karnataka    905  25006233\n",
       "1  UttarPradesh    401  11722391\n",
       "2   Maharashtra    393  14343076\n",
       "3     TamilNadu    339   9078678\n",
       "4         Delhi    230   7198320"
      ]
     },
     "execution_count": 27,
     "metadata": {},
     "output_type": "execute_result"
    }
   ],
   "source": [
    "most_bribe_State.reset_index(inplace=True)\n",
    "most_bribe_State.head()"
   ]
  },
  {
   "cell_type": "code",
   "execution_count": 28,
   "id": "6afe95eb",
   "metadata": {},
   "outputs": [
    {
     "data": {
      "text/html": [
       "<div>\n",
       "<style scoped>\n",
       "    .dataframe tbody tr th:only-of-type {\n",
       "        vertical-align: middle;\n",
       "    }\n",
       "\n",
       "    .dataframe tbody tr th {\n",
       "        vertical-align: top;\n",
       "    }\n",
       "\n",
       "    .dataframe thead th {\n",
       "        text-align: right;\n",
       "    }\n",
       "</style>\n",
       "<table border=\"1\" class=\"dataframe\">\n",
       "  <thead>\n",
       "    <tr style=\"text-align: right;\">\n",
       "      <th></th>\n",
       "      <th>State</th>\n",
       "      <th>count</th>\n",
       "      <th>sum</th>\n",
       "    </tr>\n",
       "  </thead>\n",
       "  <tbody>\n",
       "    <tr>\n",
       "      <th>0</th>\n",
       "      <td>Karnataka</td>\n",
       "      <td>905</td>\n",
       "      <td>25006233</td>\n",
       "    </tr>\n",
       "  </tbody>\n",
       "</table>\n",
       "</div>"
      ],
      "text/plain": [
       "       State  count       sum\n",
       "0  Karnataka    905  25006233"
      ]
     },
     "execution_count": 28,
     "metadata": {},
     "output_type": "execute_result"
    }
   ],
   "source": [
    "most_bribe_State[['State', 'count','sum']][most_bribe_State['sum'] == most_bribe_State['sum'].max()]  #Karnatak state has highest numbers of bribe paid"
   ]
  },
  {
   "cell_type": "markdown",
   "id": "e49c52e1",
   "metadata": {},
   "source": [
    "# 3- Which department gets paid the most bribe?"
   ]
  },
  {
   "cell_type": "code",
   "execution_count": 29,
   "id": "dd3bf45a",
   "metadata": {},
   "outputs": [],
   "source": [
    "depart_freq=df.groupby('Department')['Amount(INR)'].agg(['count','sum']).sort_values(by='count',ascending=False).head(10)"
   ]
  },
  {
   "cell_type": "code",
   "execution_count": 30,
   "id": "d95b6ad8",
   "metadata": {},
   "outputs": [
    {
     "data": {
      "image/png": "[encoded data removed]",
      "text/plain": [
       "<Figure size 640x480 with 1 Axes>"
      ]
     },
     "metadata": {},
     "output_type": "display_data"
    }
   ],
   "source": [
    "sn.barplot(y=depart_freq.index,x=depart_freq['count']);"
   ]
  },
  {
   "cell_type": "code",
   "execution_count": 31,
   "id": "53135af5",
   "metadata": {},
   "outputs": [
    {
     "data": {
      "text/html": [
       "<div>\n",
       "<style scoped>\n",
       "    .dataframe tbody tr th:only-of-type {\n",
       "        vertical-align: middle;\n",
       "    }\n",
       "\n",
       "    .dataframe tbody tr th {\n",
       "        vertical-align: top;\n",
       "    }\n",
       "\n",
       "    .dataframe thead th {\n",
       "        text-align: right;\n",
       "    }\n",
       "</style>\n",
       "<table border=\"1\" class=\"dataframe\">\n",
       "  <thead>\n",
       "    <tr style=\"text-align: right;\">\n",
       "      <th></th>\n",
       "      <th>Department</th>\n",
       "      <th>count</th>\n",
       "      <th>sum</th>\n",
       "    </tr>\n",
       "  </thead>\n",
       "  <tbody>\n",
       "    <tr>\n",
       "      <th>0</th>\n",
       "      <td>Others</td>\n",
       "      <td>472</td>\n",
       "      <td>8499390</td>\n",
       "    </tr>\n",
       "    <tr>\n",
       "      <th>1</th>\n",
       "      <td>Police Verification for Passport</td>\n",
       "      <td>266</td>\n",
       "      <td>860703</td>\n",
       "    </tr>\n",
       "    <tr>\n",
       "      <th>2</th>\n",
       "      <td>Traffic Violations</td>\n",
       "      <td>236</td>\n",
       "      <td>189459</td>\n",
       "    </tr>\n",
       "    <tr>\n",
       "      <th>3</th>\n",
       "      <td>Birth Certificate</td>\n",
       "      <td>155</td>\n",
       "      <td>1565904</td>\n",
       "    </tr>\n",
       "    <tr>\n",
       "      <th>4</th>\n",
       "      <td>Traffic Fines, Penalties, Rules</td>\n",
       "      <td>101</td>\n",
       "      <td>141369</td>\n",
       "    </tr>\n",
       "  </tbody>\n",
       "</table>\n",
       "</div>"
      ],
      "text/plain": [
       "                         Department  count      sum\n",
       "0                            Others    472  8499390\n",
       "1  Police Verification for Passport    266   860703\n",
       "2                Traffic Violations    236   189459\n",
       "3                 Birth Certificate    155  1565904\n",
       "4   Traffic Fines, Penalties, Rules    101   141369"
      ]
     },
     "execution_count": 31,
     "metadata": {},
     "output_type": "execute_result"
    }
   ],
   "source": [
    "depart_freq.reset_index(inplace=True)\n",
    "depart_freq.head()"
   ]
  },
  {
   "cell_type": "code",
   "execution_count": 32,
   "id": "24140498",
   "metadata": {},
   "outputs": [
    {
     "data": {
      "text/html": [
       "<div>\n",
       "<style scoped>\n",
       "    .dataframe tbody tr th:only-of-type {\n",
       "        vertical-align: middle;\n",
       "    }\n",
       "\n",
       "    .dataframe tbody tr th {\n",
       "        vertical-align: top;\n",
       "    }\n",
       "\n",
       "    .dataframe thead th {\n",
       "        text-align: right;\n",
       "    }\n",
       "</style>\n",
       "<table border=\"1\" class=\"dataframe\">\n",
       "  <thead>\n",
       "    <tr style=\"text-align: right;\">\n",
       "      <th></th>\n",
       "      <th>Department</th>\n",
       "      <th>count</th>\n",
       "      <th>sum</th>\n",
       "    </tr>\n",
       "  </thead>\n",
       "  <tbody>\n",
       "    <tr>\n",
       "      <th>0</th>\n",
       "      <td>Others</td>\n",
       "      <td>472</td>\n",
       "      <td>8499390</td>\n",
       "    </tr>\n",
       "  </tbody>\n",
       "</table>\n",
       "</div>"
      ],
      "text/plain": [
       "  Department  count      sum\n",
       "0     Others    472  8499390"
      ]
     },
     "execution_count": 32,
     "metadata": {},
     "output_type": "execute_result"
    }
   ],
   "source": [
    "depart_freq[['Department', 'count','sum']][depart_freq['sum'] == depart_freq['sum'].max()]  # An other department has highest numbers of bribe paid"
   ]
  },
  {
   "cell_type": "markdown",
   "id": "64a18ce9",
   "metadata": {},
   "source": [
    "# 4-Departments which take most bribe on average and overall."
   ]
  },
  {
   "cell_type": "code",
   "execution_count": 33,
   "id": "eba82a1a",
   "metadata": {},
   "outputs": [
    {
     "data": {
      "text/html": [
       "<div>\n",
       "<style scoped>\n",
       "    .dataframe tbody tr th:only-of-type {\n",
       "        vertical-align: middle;\n",
       "    }\n",
       "\n",
       "    .dataframe tbody tr th {\n",
       "        vertical-align: top;\n",
       "    }\n",
       "\n",
       "    .dataframe thead th {\n",
       "        text-align: right;\n",
       "    }\n",
       "</style>\n",
       "<table border=\"1\" class=\"dataframe\">\n",
       "  <thead>\n",
       "    <tr style=\"text-align: right;\">\n",
       "      <th></th>\n",
       "      <th>Date</th>\n",
       "      <th>Department</th>\n",
       "      <th>Views</th>\n",
       "      <th>Amount(INR)</th>\n",
       "      <th>year</th>\n",
       "      <th>month</th>\n",
       "      <th>days_of_month</th>\n",
       "      <th>week_days</th>\n",
       "      <th>day_names</th>\n",
       "      <th>month_names</th>\n",
       "      <th>City</th>\n",
       "      <th>State</th>\n",
       "    </tr>\n",
       "  </thead>\n",
       "  <tbody>\n",
       "    <tr>\n",
       "      <th>0</th>\n",
       "      <td>2020-10-14</td>\n",
       "      <td>Births, Family and Care</td>\n",
       "      <td>1225</td>\n",
       "      <td>400</td>\n",
       "      <td>2020</td>\n",
       "      <td>10</td>\n",
       "      <td>14</td>\n",
       "      <td>2</td>\n",
       "      <td>Wednesday</td>\n",
       "      <td>October</td>\n",
       "      <td>Bangalore</td>\n",
       "      <td>Karnataka</td>\n",
       "    </tr>\n",
       "    <tr>\n",
       "      <th>1</th>\n",
       "      <td>2020-10-13</td>\n",
       "      <td>Vehicle Insurance</td>\n",
       "      <td>1158</td>\n",
       "      <td>350</td>\n",
       "      <td>2020</td>\n",
       "      <td>10</td>\n",
       "      <td>13</td>\n",
       "      <td>1</td>\n",
       "      <td>Tuesday</td>\n",
       "      <td>October</td>\n",
       "      <td>Bangalore</td>\n",
       "      <td>Karnataka</td>\n",
       "    </tr>\n",
       "    <tr>\n",
       "      <th>2</th>\n",
       "      <td>2020-10-13</td>\n",
       "      <td>Driving and Transport Business</td>\n",
       "      <td>1249</td>\n",
       "      <td>100</td>\n",
       "      <td>2020</td>\n",
       "      <td>10</td>\n",
       "      <td>13</td>\n",
       "      <td>1</td>\n",
       "      <td>Tuesday</td>\n",
       "      <td>October</td>\n",
       "      <td>Bangalore</td>\n",
       "      <td>Karnataka</td>\n",
       "    </tr>\n",
       "    <tr>\n",
       "      <th>3</th>\n",
       "      <td>2020-10-13</td>\n",
       "      <td>Driving Licenses and Tests</td>\n",
       "      <td>1044</td>\n",
       "      <td>100</td>\n",
       "      <td>2020</td>\n",
       "      <td>10</td>\n",
       "      <td>13</td>\n",
       "      <td>1</td>\n",
       "      <td>Tuesday</td>\n",
       "      <td>October</td>\n",
       "      <td>Bangalore</td>\n",
       "      <td>Karnataka</td>\n",
       "    </tr>\n",
       "    <tr>\n",
       "      <th>4</th>\n",
       "      <td>2020-10-13</td>\n",
       "      <td>FIR and Complaints</td>\n",
       "      <td>1068</td>\n",
       "      <td>15000</td>\n",
       "      <td>2020</td>\n",
       "      <td>10</td>\n",
       "      <td>13</td>\n",
       "      <td>1</td>\n",
       "      <td>Tuesday</td>\n",
       "      <td>October</td>\n",
       "      <td>Siwan</td>\n",
       "      <td>Bihar</td>\n",
       "    </tr>\n",
       "  </tbody>\n",
       "</table>\n",
       "</div>"
      ],
      "text/plain": [
       "        Date                      Department  Views  Amount(INR)  year  month  \\\n",
       "0 2020-10-14         Births, Family and Care   1225          400  2020     10   \n",
       "1 2020-10-13               Vehicle Insurance   1158          350  2020     10   \n",
       "2 2020-10-13  Driving and Transport Business   1249          100  2020     10   \n",
       "3 2020-10-13      Driving Licenses and Tests   1044          100  2020     10   \n",
       "4 2020-10-13              FIR and Complaints   1068        15000  2020     10   \n",
       "\n",
       "   days_of_month  week_days  day_names month_names       City      State  \n",
       "0             14          2  Wednesday     October  Bangalore  Karnataka  \n",
       "1             13          1    Tuesday     October  Bangalore  Karnataka  \n",
       "2             13          1    Tuesday     October  Bangalore  Karnataka  \n",
       "3             13          1    Tuesday     October  Bangalore  Karnataka  \n",
       "4             13          1    Tuesday     October      Siwan      Bihar  "
      ]
     },
     "execution_count": 33,
     "metadata": {},
     "output_type": "execute_result"
    }
   ],
   "source": [
    "df.head()"
   ]
  },
  {
   "cell_type": "code",
   "execution_count": 34,
   "id": "9056f965",
   "metadata": {},
   "outputs": [
    {
     "data": {
      "text/html": [
       "<div>\n",
       "<style scoped>\n",
       "    .dataframe tbody tr th:only-of-type {\n",
       "        vertical-align: middle;\n",
       "    }\n",
       "\n",
       "    .dataframe tbody tr th {\n",
       "        vertical-align: top;\n",
       "    }\n",
       "\n",
       "    .dataframe thead th {\n",
       "        text-align: right;\n",
       "    }\n",
       "</style>\n",
       "<table border=\"1\" class=\"dataframe\">\n",
       "  <thead>\n",
       "    <tr style=\"text-align: right;\">\n",
       "      <th></th>\n",
       "      <th>mean</th>\n",
       "      <th>sum</th>\n",
       "    </tr>\n",
       "    <tr>\n",
       "      <th>Department</th>\n",
       "      <th></th>\n",
       "      <th></th>\n",
       "    </tr>\n",
       "  </thead>\n",
       "  <tbody>\n",
       "    <tr>\n",
       "      <th>Others</th>\n",
       "      <td>18007.182203</td>\n",
       "      <td>8499390</td>\n",
       "    </tr>\n",
       "    <tr>\n",
       "      <th>Sales Tax</th>\n",
       "      <td>274073.684211</td>\n",
       "      <td>5207400</td>\n",
       "    </tr>\n",
       "    <tr>\n",
       "      <th>Encumbrance Certificate</th>\n",
       "      <td>267220.937500</td>\n",
       "      <td>4275535</td>\n",
       "    </tr>\n",
       "    <tr>\n",
       "      <th>Admission to College</th>\n",
       "      <td>350145.555556</td>\n",
       "      <td>3151310</td>\n",
       "    </tr>\n",
       "    <tr>\n",
       "      <th>Customs Check and Clearance</th>\n",
       "      <td>79669.538462</td>\n",
       "      <td>3107112</td>\n",
       "    </tr>\n",
       "    <tr>\n",
       "      <th>PWD Officers</th>\n",
       "      <td>512350.000000</td>\n",
       "      <td>3074100</td>\n",
       "    </tr>\n",
       "    <tr>\n",
       "      <th>Police Harassment</th>\n",
       "      <td>47074.590164</td>\n",
       "      <td>2871550</td>\n",
       "    </tr>\n",
       "    <tr>\n",
       "      <th>FIR and Complaints</th>\n",
       "      <td>70357.500000</td>\n",
       "      <td>2814300</td>\n",
       "    </tr>\n",
       "    <tr>\n",
       "      <th>Building Plan Approval</th>\n",
       "      <td>209923.076923</td>\n",
       "      <td>2729000</td>\n",
       "    </tr>\n",
       "    <tr>\n",
       "      <th>Policies and Procedures</th>\n",
       "      <td>71712.162162</td>\n",
       "      <td>2653350</td>\n",
       "    </tr>\n",
       "  </tbody>\n",
       "</table>\n",
       "</div>"
      ],
      "text/plain": [
       "                                      mean      sum\n",
       "Department                                         \n",
       "Others                        18007.182203  8499390\n",
       "Sales Tax                    274073.684211  5207400\n",
       "Encumbrance Certificate      267220.937500  4275535\n",
       "Admission to College         350145.555556  3151310\n",
       "Customs Check and Clearance   79669.538462  3107112\n",
       "PWD Officers                 512350.000000  3074100\n",
       "Police Harassment             47074.590164  2871550\n",
       "FIR and Complaints            70357.500000  2814300\n",
       "Building Plan Approval       209923.076923  2729000\n",
       "Policies and Procedures       71712.162162  2653350"
      ]
     },
     "execution_count": 34,
     "metadata": {},
     "output_type": "execute_result"
    }
   ],
   "source": [
    "df7=df.groupby('Department')['Amount(INR)'].agg(['mean','sum']).sort_values(by='sum',ascending=False).head(10)\n",
    "df7                                                         # PWD office has most Bribe on average.\n",
    "                                                            # Other Department has overall high numbers in Bribe.   "
   ]
  },
  {
   "cell_type": "code",
   "execution_count": 35,
   "id": "bf446133",
   "metadata": {},
   "outputs": [
    {
     "data": {
      "image/png": "[encoded data removed]",
      "text/plain": [
       "<Figure size 640x480 with 1 Axes>"
      ]
     },
     "metadata": {},
     "output_type": "display_data"
    }
   ],
   "source": [
    "sn.barplot(y=df7.index,x=df7['mean']);"
   ]
  },
  {
   "cell_type": "markdown",
   "id": "535b581f",
   "metadata": {},
   "source": [
    "# 5-Bribes paid by days of the month"
   ]
  },
  {
   "cell_type": "code",
   "execution_count": 62,
   "id": "b7617583",
   "metadata": {},
   "outputs": [
    {
     "data": {
      "image/png": "[encoded data removed]",
      "text/plain": [
       "<Figure size 640x480 with 1 Axes>"
      ]
     },
     "metadata": {},
     "output_type": "display_data"
    }
   ],
   "source": [
    "sn.histplot(data=df[\"days_of_month\"],bins=31)\n",
    "plt.ylabel(\"Number of bribes taken\")                        # On 11th of every month most bribe has happened \n",
    "plt.title(\"Days of the Month\");"
   ]
  },
  {
   "cell_type": "markdown",
   "id": "48b01611",
   "metadata": {},
   "source": [
    "# 6-Bribes paid by days of the days of week\n"
   ]
  },
  {
   "cell_type": "code",
   "execution_count": 47,
   "id": "5eab2f42",
   "metadata": {},
   "outputs": [
    {
     "data": {
      "text/html": [
       "<div>\n",
       "<style scoped>\n",
       "    .dataframe tbody tr th:only-of-type {\n",
       "        vertical-align: middle;\n",
       "    }\n",
       "\n",
       "    .dataframe tbody tr th {\n",
       "        vertical-align: top;\n",
       "    }\n",
       "\n",
       "    .dataframe thead th {\n",
       "        text-align: right;\n",
       "    }\n",
       "</style>\n",
       "<table border=\"1\" class=\"dataframe\">\n",
       "  <thead>\n",
       "    <tr style=\"text-align: right;\">\n",
       "      <th></th>\n",
       "      <th>day_names</th>\n",
       "      <th>Amount(INR)</th>\n",
       "    </tr>\n",
       "  </thead>\n",
       "  <tbody>\n",
       "    <tr>\n",
       "      <th>0</th>\n",
       "      <td>Wednesday</td>\n",
       "      <td>400</td>\n",
       "    </tr>\n",
       "    <tr>\n",
       "      <th>1</th>\n",
       "      <td>Tuesday</td>\n",
       "      <td>350</td>\n",
       "    </tr>\n",
       "    <tr>\n",
       "      <th>2</th>\n",
       "      <td>Tuesday</td>\n",
       "      <td>100</td>\n",
       "    </tr>\n",
       "    <tr>\n",
       "      <th>3</th>\n",
       "      <td>Tuesday</td>\n",
       "      <td>100</td>\n",
       "    </tr>\n",
       "    <tr>\n",
       "      <th>4</th>\n",
       "      <td>Tuesday</td>\n",
       "      <td>15000</td>\n",
       "    </tr>\n",
       "  </tbody>\n",
       "</table>\n",
       "</div>"
      ],
      "text/plain": [
       "   day_names  Amount(INR)\n",
       "0  Wednesday          400\n",
       "1    Tuesday          350\n",
       "2    Tuesday          100\n",
       "3    Tuesday          100\n",
       "4    Tuesday        15000"
      ]
     },
     "execution_count": 47,
     "metadata": {},
     "output_type": "execute_result"
    }
   ],
   "source": [
    "df5 =df[['day_names', 'Amount(INR)']].copy()\n",
    "df5.head()"
   ]
  },
  {
   "cell_type": "code",
   "execution_count": 48,
   "id": "8fe70a78",
   "metadata": {},
   "outputs": [
    {
     "data": {
      "text/html": [
       "<div>\n",
       "<style scoped>\n",
       "    .dataframe tbody tr th:only-of-type {\n",
       "        vertical-align: middle;\n",
       "    }\n",
       "\n",
       "    .dataframe tbody tr th {\n",
       "        vertical-align: top;\n",
       "    }\n",
       "\n",
       "    .dataframe thead th {\n",
       "        text-align: right;\n",
       "    }\n",
       "</style>\n",
       "<table border=\"1\" class=\"dataframe\">\n",
       "  <thead>\n",
       "    <tr style=\"text-align: right;\">\n",
       "      <th></th>\n",
       "      <th>Amount(INR)</th>\n",
       "    </tr>\n",
       "    <tr>\n",
       "      <th>day_names</th>\n",
       "      <th></th>\n",
       "    </tr>\n",
       "  </thead>\n",
       "  <tbody>\n",
       "    <tr>\n",
       "      <th>Friday</th>\n",
       "      <td>19791044</td>\n",
       "    </tr>\n",
       "    <tr>\n",
       "      <th>Monday</th>\n",
       "      <td>15881550</td>\n",
       "    </tr>\n",
       "    <tr>\n",
       "      <th>Saturday</th>\n",
       "      <td>16243943</td>\n",
       "    </tr>\n",
       "    <tr>\n",
       "      <th>Sunday</th>\n",
       "      <td>14221997</td>\n",
       "    </tr>\n",
       "    <tr>\n",
       "      <th>Thursday</th>\n",
       "      <td>16120406</td>\n",
       "    </tr>\n",
       "  </tbody>\n",
       "</table>\n",
       "</div>"
      ],
      "text/plain": [
       "           Amount(INR)\n",
       "day_names             \n",
       "Friday        19791044\n",
       "Monday        15881550\n",
       "Saturday      16243943\n",
       "Sunday        14221997\n",
       "Thursday      16120406"
      ]
     },
     "execution_count": 48,
     "metadata": {},
     "output_type": "execute_result"
    }
   ],
   "source": [
    "df5=df5.groupby([\"day_names\"]).sum()\n",
    "df5.head()"
   ]
  },
  {
   "cell_type": "code",
   "execution_count": 49,
   "id": "e4680071",
   "metadata": {},
   "outputs": [
    {
     "data": {
      "text/html": [
       "<div>\n",
       "<style scoped>\n",
       "    .dataframe tbody tr th:only-of-type {\n",
       "        vertical-align: middle;\n",
       "    }\n",
       "\n",
       "    .dataframe tbody tr th {\n",
       "        vertical-align: top;\n",
       "    }\n",
       "\n",
       "    .dataframe thead th {\n",
       "        text-align: right;\n",
       "    }\n",
       "</style>\n",
       "<table border=\"1\" class=\"dataframe\">\n",
       "  <thead>\n",
       "    <tr style=\"text-align: right;\">\n",
       "      <th></th>\n",
       "      <th>day_names</th>\n",
       "      <th>Amount(INR)</th>\n",
       "    </tr>\n",
       "  </thead>\n",
       "  <tbody>\n",
       "    <tr>\n",
       "      <th>0</th>\n",
       "      <td>Friday</td>\n",
       "      <td>19791044</td>\n",
       "    </tr>\n",
       "    <tr>\n",
       "      <th>1</th>\n",
       "      <td>Monday</td>\n",
       "      <td>15881550</td>\n",
       "    </tr>\n",
       "    <tr>\n",
       "      <th>2</th>\n",
       "      <td>Saturday</td>\n",
       "      <td>16243943</td>\n",
       "    </tr>\n",
       "    <tr>\n",
       "      <th>3</th>\n",
       "      <td>Sunday</td>\n",
       "      <td>14221997</td>\n",
       "    </tr>\n",
       "    <tr>\n",
       "      <th>4</th>\n",
       "      <td>Thursday</td>\n",
       "      <td>16120406</td>\n",
       "    </tr>\n",
       "    <tr>\n",
       "      <th>5</th>\n",
       "      <td>Tuesday</td>\n",
       "      <td>13991288</td>\n",
       "    </tr>\n",
       "    <tr>\n",
       "      <th>6</th>\n",
       "      <td>Wednesday</td>\n",
       "      <td>19438297</td>\n",
       "    </tr>\n",
       "  </tbody>\n",
       "</table>\n",
       "</div>"
      ],
      "text/plain": [
       "   day_names  Amount(INR)\n",
       "0     Friday     19791044\n",
       "1     Monday     15881550\n",
       "2   Saturday     16243943\n",
       "3     Sunday     14221997\n",
       "4   Thursday     16120406\n",
       "5    Tuesday     13991288\n",
       "6  Wednesday     19438297"
      ]
     },
     "execution_count": 49,
     "metadata": {},
     "output_type": "execute_result"
    }
   ],
   "source": [
    "df5.reset_index(inplace=True)\n",
    "df5"
   ]
  },
  {
   "cell_type": "code",
   "execution_count": 53,
   "id": "d292e583",
   "metadata": {},
   "outputs": [
    {
     "data": {
      "image/png": "[encoded data removed]",
      "text/plain": [
       "<Figure size 640x480 with 1 Axes>"
      ]
     },
     "metadata": {},
     "output_type": "display_data"
    },
    {
     "data": {
      "text/plain": [
       "<Figure size 2000x2000 with 0 Axes>"
      ]
     },
     "metadata": {},
     "output_type": "display_data"
    }
   ],
   "source": [
    "Day= df5['day_names']                               # Here 0=Monday,1 =Tue and so on. \n",
    "Amount =df5['Amount(INR)']\n",
    "                                                     # On Friday maximum bribe happening\n",
    "plt.pie(Amount, labels =Day,autopct=\"%2f%%\")         # On sunday least bribe happening\n",
    "plt.figure(figsize=(20,20))\n",
    "plt.show()"
   ]
  },
  {
   "cell_type": "markdown",
   "id": "0f5b7b16",
   "metadata": {},
   "source": [
    "# 7-Bribes paid by Years"
   ]
  },
  {
   "cell_type": "code",
   "execution_count": 54,
   "id": "7ad5d384",
   "metadata": {},
   "outputs": [
    {
     "data": {
      "text/html": [
       "<div>\n",
       "<style scoped>\n",
       "    .dataframe tbody tr th:only-of-type {\n",
       "        vertical-align: middle;\n",
       "    }\n",
       "\n",
       "    .dataframe tbody tr th {\n",
       "        vertical-align: top;\n",
       "    }\n",
       "\n",
       "    .dataframe thead th {\n",
       "        text-align: right;\n",
       "    }\n",
       "</style>\n",
       "<table border=\"1\" class=\"dataframe\">\n",
       "  <thead>\n",
       "    <tr style=\"text-align: right;\">\n",
       "      <th></th>\n",
       "      <th>year</th>\n",
       "      <th>Amount(INR)</th>\n",
       "    </tr>\n",
       "  </thead>\n",
       "  <tbody>\n",
       "    <tr>\n",
       "      <th>0</th>\n",
       "      <td>2020</td>\n",
       "      <td>400</td>\n",
       "    </tr>\n",
       "    <tr>\n",
       "      <th>1</th>\n",
       "      <td>2020</td>\n",
       "      <td>350</td>\n",
       "    </tr>\n",
       "    <tr>\n",
       "      <th>2</th>\n",
       "      <td>2020</td>\n",
       "      <td>100</td>\n",
       "    </tr>\n",
       "    <tr>\n",
       "      <th>3</th>\n",
       "      <td>2020</td>\n",
       "      <td>100</td>\n",
       "    </tr>\n",
       "    <tr>\n",
       "      <th>4</th>\n",
       "      <td>2020</td>\n",
       "      <td>15000</td>\n",
       "    </tr>\n",
       "  </tbody>\n",
       "</table>\n",
       "</div>"
      ],
      "text/plain": [
       "   year  Amount(INR)\n",
       "0  2020          400\n",
       "1  2020          350\n",
       "2  2020          100\n",
       "3  2020          100\n",
       "4  2020        15000"
      ]
     },
     "execution_count": 54,
     "metadata": {},
     "output_type": "execute_result"
    }
   ],
   "source": [
    "df6 =df[['year', 'Amount(INR)']].copy()\n",
    "df6.head()"
   ]
  },
  {
   "cell_type": "code",
   "execution_count": 55,
   "id": "0f377c3c",
   "metadata": {},
   "outputs": [
    {
     "data": {
      "text/html": [
       "<div>\n",
       "<style scoped>\n",
       "    .dataframe tbody tr th:only-of-type {\n",
       "        vertical-align: middle;\n",
       "    }\n",
       "\n",
       "    .dataframe tbody tr th {\n",
       "        vertical-align: top;\n",
       "    }\n",
       "\n",
       "    .dataframe thead th {\n",
       "        text-align: right;\n",
       "    }\n",
       "</style>\n",
       "<table border=\"1\" class=\"dataframe\">\n",
       "  <thead>\n",
       "    <tr style=\"text-align: right;\">\n",
       "      <th></th>\n",
       "      <th>Amount(INR)</th>\n",
       "    </tr>\n",
       "    <tr>\n",
       "      <th>year</th>\n",
       "      <th></th>\n",
       "    </tr>\n",
       "  </thead>\n",
       "  <tbody>\n",
       "    <tr>\n",
       "      <th>2015</th>\n",
       "      <td>3931905</td>\n",
       "    </tr>\n",
       "    <tr>\n",
       "      <th>2016</th>\n",
       "      <td>30944585</td>\n",
       "    </tr>\n",
       "    <tr>\n",
       "      <th>2017</th>\n",
       "      <td>10649136</td>\n",
       "    </tr>\n",
       "    <tr>\n",
       "      <th>2018</th>\n",
       "      <td>18902211</td>\n",
       "    </tr>\n",
       "    <tr>\n",
       "      <th>2019</th>\n",
       "      <td>37493268</td>\n",
       "    </tr>\n",
       "    <tr>\n",
       "      <th>2020</th>\n",
       "      <td>13767420</td>\n",
       "    </tr>\n",
       "  </tbody>\n",
       "</table>\n",
       "</div>"
      ],
      "text/plain": [
       "      Amount(INR)\n",
       "year             \n",
       "2015      3931905\n",
       "2016     30944585\n",
       "2017     10649136\n",
       "2018     18902211\n",
       "2019     37493268\n",
       "2020     13767420"
      ]
     },
     "execution_count": 55,
     "metadata": {},
     "output_type": "execute_result"
    }
   ],
   "source": [
    "df6=df6.groupby([\"year\"]).sum()\n",
    "df6"
   ]
  },
  {
   "cell_type": "code",
   "execution_count": 56,
   "id": "243f39aa",
   "metadata": {},
   "outputs": [
    {
     "data": {
      "text/html": [
       "<div>\n",
       "<style scoped>\n",
       "    .dataframe tbody tr th:only-of-type {\n",
       "        vertical-align: middle;\n",
       "    }\n",
       "\n",
       "    .dataframe tbody tr th {\n",
       "        vertical-align: top;\n",
       "    }\n",
       "\n",
       "    .dataframe thead th {\n",
       "        text-align: right;\n",
       "    }\n",
       "</style>\n",
       "<table border=\"1\" class=\"dataframe\">\n",
       "  <thead>\n",
       "    <tr style=\"text-align: right;\">\n",
       "      <th></th>\n",
       "      <th>year</th>\n",
       "      <th>Amount(INR)</th>\n",
       "    </tr>\n",
       "  </thead>\n",
       "  <tbody>\n",
       "    <tr>\n",
       "      <th>0</th>\n",
       "      <td>2015</td>\n",
       "      <td>3931905</td>\n",
       "    </tr>\n",
       "    <tr>\n",
       "      <th>1</th>\n",
       "      <td>2016</td>\n",
       "      <td>30944585</td>\n",
       "    </tr>\n",
       "    <tr>\n",
       "      <th>2</th>\n",
       "      <td>2017</td>\n",
       "      <td>10649136</td>\n",
       "    </tr>\n",
       "    <tr>\n",
       "      <th>3</th>\n",
       "      <td>2018</td>\n",
       "      <td>18902211</td>\n",
       "    </tr>\n",
       "    <tr>\n",
       "      <th>4</th>\n",
       "      <td>2019</td>\n",
       "      <td>37493268</td>\n",
       "    </tr>\n",
       "    <tr>\n",
       "      <th>5</th>\n",
       "      <td>2020</td>\n",
       "      <td>13767420</td>\n",
       "    </tr>\n",
       "  </tbody>\n",
       "</table>\n",
       "</div>"
      ],
      "text/plain": [
       "   year  Amount(INR)\n",
       "0  2015      3931905\n",
       "1  2016     30944585\n",
       "2  2017     10649136\n",
       "3  2018     18902211\n",
       "4  2019     37493268\n",
       "5  2020     13767420"
      ]
     },
     "execution_count": 56,
     "metadata": {},
     "output_type": "execute_result"
    }
   ],
   "source": [
    "df6.reset_index(inplace=True)\n",
    "df6"
   ]
  },
  {
   "cell_type": "code",
   "execution_count": 57,
   "id": "025a40f6",
   "metadata": {},
   "outputs": [
    {
     "data": {
      "image/png": "[encoded data removed]",
      "text/plain": [
       "<Figure size 640x480 with 1 Axes>"
      ]
     },
     "metadata": {},
     "output_type": "display_data"
    },
    {
     "data": {
      "text/plain": [
       "<Figure size 2000x2000 with 0 Axes>"
      ]
     },
     "metadata": {},
     "output_type": "display_data"
    }
   ],
   "source": [
    "Year= df6['year']                                \n",
    "Bribe_Amount =df6['Amount(INR)']\n",
    "                                                     # Maximum times Bribe has happened in 2019\n",
    "plt.pie(Bribe_Amount, labels =Year,autopct=\"%2f%%\")\n",
    "plt.figure(figsize=(20,20))\n",
    "plt.show()"
   ]
  },
  {
   "cell_type": "markdown",
   "id": "9a6cc490",
   "metadata": {},
   "source": [
    "# 8-Conclusion"
   ]
  },
  {
   "cell_type": "markdown",
   "id": "81fb9586",
   "metadata": {},
   "source": [
    "# 1.  Bangalore has highest number of bribes paid.\n",
    "# 2.  Karnatak state has highest numbers of bribe paid.\n",
    "# 3.  other department has highest numbers of bribe paid.\n",
    "# 4.  PWD office has most Bribe numbers on average.\n",
    "# 5.  On 11th of every month most bribe has happened.\n",
    "# 6.  On Friday and wednesday of each week maximum brbibe happening.\n",
    "# 7.  Bribes are taken less frequently on Sundays.\n",
    "# 8.  Highest number of bribes taking cases are reported in 2016 and 2019.\n",
    "# 9.  The amount of bribe taken doesn't affect the number of viewers."
   ]
  },
  {
   "cell_type": "code",
   "execution_count": null,
   "id": "98486e17",
   "metadata": {},
   "outputs": [],
   "source": []
  }
 ],
 "metadata": {
  "kernelspec": {
   "display_name": "Python 3 (ipykernel)",
   "language": "python",
   "name": "python3"
  },
  "language_info": {
   "codemirror_mode": {
    "name": "ipython",
    "version": 3
   },
   "file_extension": ".py",
   "mimetype": "text/x-python",
   "name": "python",
   "nbconvert_exporter": "python",
   "pygments_lexer": "ipython3",
   "version": "3.9.13"
  }
 },
 "nbformat": 4,
 "nbformat_minor": 5
}
